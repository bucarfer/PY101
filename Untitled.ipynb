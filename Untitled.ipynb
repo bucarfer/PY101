{
 "cells": [
  {
   "cell_type": "code",
   "execution_count": 1,
   "id": "b8001122-f217-406d-86ca-1fc13a072a8f",
   "metadata": {},
   "outputs": [
    {
     "name": "stdout",
     "output_type": "stream",
     "text": [
      "7 is odd\n",
      "12 is even\n"
     ]
    }
   ],
   "source": [
    "# Simple function to check if a number is even or odd\n",
    "def even_or_odd(number):\n",
    "    if number % 2 == 0:\n",
    "        return f\"{number} is even\"\n",
    "    else:\n",
    "        return f\"{number} is odd\"\n",
    "\n",
    "# Test the function\n",
    "print(even_or_odd(7))\n",
    "print(even_or_odd(12))\n"
   ]
  },
  {
   "cell_type": "code",
   "execution_count": null,
   "id": "7565e38c-03b4-41cf-b708-ed54a25998df",
   "metadata": {},
   "outputs": [],
   "source": []
  }
 ],
 "metadata": {
  "kernelspec": {
   "display_name": "Python 3 (ipykernel)",
   "language": "python",
   "name": "python3"
  },
  "language_info": {
   "codemirror_mode": {
    "name": "ipython",
    "version": 3
   },
   "file_extension": ".py",
   "mimetype": "text/x-python",
   "name": "python",
   "nbconvert_exporter": "python",
   "pygments_lexer": "ipython3",
   "version": "3.13.3"
  }
 },
 "nbformat": 4,
 "nbformat_minor": 5
}
